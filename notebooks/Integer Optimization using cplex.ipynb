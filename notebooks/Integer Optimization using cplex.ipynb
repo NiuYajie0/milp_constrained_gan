{
 "cells": [
  {
   "cell_type": "code",
   "execution_count": 1,
   "metadata": {},
   "outputs": [],
   "source": [
    "import docplex.mp as mp\n",
    "from docplex.mp.model import Model"
   ]
  },
  {
   "cell_type": "code",
   "execution_count": 3,
   "metadata": {},
   "outputs": [
    {
     "name": "stdout",
     "output_type": "stream",
     "text": [
      "Model: integer_programming\n",
      " - number of variables: 2\n",
      "   - binary=1, integer=1, continuous=0\n",
      " - number of constraints: 0\n",
      "   - linear=0\n",
      " - parameters: defaults\n",
      " - objective: none\n",
      " - problem type is: MILP\n"
     ]
    }
   ],
   "source": [
    "im = Model(name='integer_programming')\n",
    "b = im.binary_var(name='boolean_var')\n",
    "ijk = im.integer_var(name='int_var')\n",
    "im.print_information()"
   ]
  },
  {
   "cell_type": "code",
   "execution_count": 4,
   "metadata": {},
   "outputs": [
    {
     "name": "stdout",
     "output_type": "stream",
     "text": [
      "objective: 20947.400\n",
      "  desk=303\n",
      "  cell=851\n"
     ]
    }
   ],
   "source": [
    "im = Model(name='ip_telephone_production')\n",
    "desk = im.integer_var(name='desk')\n",
    "cell = im.integer_var(name='cell')\n",
    "im.add_constraint(desk >= 100)\n",
    "im.add_constraint(cell >= 100)\n",
    "im.add_constraint(0.2 * desk + 0.4 * cell <= 401)\n",
    "im.add_constraint(0.5 * desk + 0.4 * cell <= 492)\n",
    "im.maximize(12.4 * desk + 20.2 * cell)\n",
    "si = im.solve(url=None, key=None)\n",
    "im.print_solution()"
   ]
  },
  {
   "cell_type": "code",
   "execution_count": null,
   "metadata": {},
   "outputs": [],
   "source": []
  }
 ],
 "metadata": {
  "kernelspec": {
   "display_name": "Python 3",
   "language": "python",
   "name": "python3"
  },
  "language_info": {
   "codemirror_mode": {
    "name": "ipython",
    "version": 3
   },
   "file_extension": ".py",
   "mimetype": "text/x-python",
   "name": "python",
   "nbconvert_exporter": "python",
   "pygments_lexer": "ipython3",
   "version": "3.6.9"
  }
 },
 "nbformat": 4,
 "nbformat_minor": 4
}
